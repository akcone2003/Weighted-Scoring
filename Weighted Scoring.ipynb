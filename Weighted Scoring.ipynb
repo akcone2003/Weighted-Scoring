{
 "cells": [
  {
   "cell_type": "code",
   "execution_count": 1,
   "id": "initial_id",
   "metadata": {
    "collapsed": true,
    "ExecuteTime": {
     "end_time": "2023-12-23T20:05:44.592043Z",
     "start_time": "2023-12-23T20:05:38.210582Z"
    }
   },
   "outputs": [],
   "source": [
    "import pandas as pd\n",
    "from sklearn.preprocessing import StandardScaler"
   ]
  },
  {
   "cell_type": "code",
   "execution_count": 2,
   "outputs": [],
   "source": [
    "df = pd.read_csv('Calisthenics Data - Sheet1.csv')"
   ],
   "metadata": {
    "collapsed": false,
    "ExecuteTime": {
     "end_time": "2023-12-23T20:05:44.600950Z",
     "start_time": "2023-12-23T20:05:44.590654Z"
    }
   },
   "id": "a805e665e3724949"
  },
  {
   "cell_type": "code",
   "execution_count": 3,
   "outputs": [
    {
     "data": {
      "text/plain": "  Gender  Reps  Year Time Format AP/JC FF/PR/PB HR/FR  Exercise\n0   Male   130  2019   2 MINUTES    AP       FF    HR         2\n1   Male   119  2017   2 MINUTES    AP       FF    HR         2\n2   Male   111  2017   2 MINUTES    AP       FF    HR         2\n3   Male   107  2018   2 MINUTES    AP       FF    HR         2\n4   Male   105  2019   2 MINUTES    AP       FF    HR         2",
      "text/html": "<div>\n<style scoped>\n    .dataframe tbody tr th:only-of-type {\n        vertical-align: middle;\n    }\n\n    .dataframe tbody tr th {\n        vertical-align: top;\n    }\n\n    .dataframe thead th {\n        text-align: right;\n    }\n</style>\n<table border=\"1\" class=\"dataframe\">\n  <thead>\n    <tr style=\"text-align: right;\">\n      <th></th>\n      <th>Gender</th>\n      <th>Reps</th>\n      <th>Year</th>\n      <th>Time Format</th>\n      <th>AP/JC</th>\n      <th>FF/PR/PB</th>\n      <th>HR/FR</th>\n      <th>Exercise</th>\n    </tr>\n  </thead>\n  <tbody>\n    <tr>\n      <th>0</th>\n      <td>Male</td>\n      <td>130</td>\n      <td>2019</td>\n      <td>2 MINUTES</td>\n      <td>AP</td>\n      <td>FF</td>\n      <td>HR</td>\n      <td>2</td>\n    </tr>\n    <tr>\n      <th>1</th>\n      <td>Male</td>\n      <td>119</td>\n      <td>2017</td>\n      <td>2 MINUTES</td>\n      <td>AP</td>\n      <td>FF</td>\n      <td>HR</td>\n      <td>2</td>\n    </tr>\n    <tr>\n      <th>2</th>\n      <td>Male</td>\n      <td>111</td>\n      <td>2017</td>\n      <td>2 MINUTES</td>\n      <td>AP</td>\n      <td>FF</td>\n      <td>HR</td>\n      <td>2</td>\n    </tr>\n    <tr>\n      <th>3</th>\n      <td>Male</td>\n      <td>107</td>\n      <td>2018</td>\n      <td>2 MINUTES</td>\n      <td>AP</td>\n      <td>FF</td>\n      <td>HR</td>\n      <td>2</td>\n    </tr>\n    <tr>\n      <th>4</th>\n      <td>Male</td>\n      <td>105</td>\n      <td>2019</td>\n      <td>2 MINUTES</td>\n      <td>AP</td>\n      <td>FF</td>\n      <td>HR</td>\n      <td>2</td>\n    </tr>\n  </tbody>\n</table>\n</div>"
     },
     "execution_count": 3,
     "metadata": {},
     "output_type": "execute_result"
    }
   ],
   "source": [
    "df.head()"
   ],
   "metadata": {
    "collapsed": false,
    "ExecuteTime": {
     "end_time": "2023-12-23T20:05:44.625620Z",
     "start_time": "2023-12-23T20:05:44.605033Z"
    }
   },
   "id": "45ace61f1b2cc2b3"
  },
  {
   "cell_type": "code",
   "execution_count": 4,
   "outputs": [
    {
     "name": "stdout",
     "output_type": "stream",
     "text": [
      "[2 1 3 4 5]\n"
     ]
    }
   ],
   "source": [
    "print(df['Exercise'].unique())"
   ],
   "metadata": {
    "collapsed": false,
    "ExecuteTime": {
     "end_time": "2023-12-23T20:05:44.626994Z",
     "start_time": "2023-12-23T20:05:44.618771Z"
    }
   },
   "id": "76e93be53552a459"
  },
  {
   "cell_type": "markdown",
   "source": [
    "# Cleaning up the dataset"
   ],
   "metadata": {
    "collapsed": false
   },
   "id": "e5cdd8ff82c091c4"
  },
  {
   "cell_type": "code",
   "execution_count": 5,
   "outputs": [],
   "source": [
    "# Conditions to remove specific exercises which are 'UNTIMED'\n",
    "condition_1 = (df['Exercise'] == 1) & (df['Time Format'] == 'UNTIMED')  # remove 'UNTIMED' rows for exercise 1\n",
    "condition_2 = (df['Exercise'] == 2) & (df['Time Format'] == 'UNTIMED')  # remove 'UNTIMED' rows for exercise 2\n",
    "condition_4 = (df['Exercise'] == 4) & (df['Time Format'] == 'UNTIMED')  # remove 'UNTIMED' rows for exercise 4\n",
    "condition_5 = (df['Exercise'] == 5) & (df['Time Format'] == 'UNTIMED')  # remove 'UNTIMED' rows for exercise 5\n",
    "\n",
    "# Removing 'UNTIMED' rows for specific exercises\n",
    "df = df[~(condition_1 | condition_2 | condition_4 | condition_5)]\n",
    "\n",
    "# Drops any rows where 'Reps' are 0\n",
    "df = df[df['Reps'] != 0]  \n",
    "\n",
    "# Removing any half-reps\n",
    "df = df[df['HR/FR'] != 'HR']  \n",
    "\n",
    "# Remove freeform\n",
    "df = df[df['FF/PR/PB'] != 'FF']"
   ],
   "metadata": {
    "collapsed": false,
    "ExecuteTime": {
     "end_time": "2023-12-23T20:05:44.636371Z",
     "start_time": "2023-12-23T20:05:44.623445Z"
    }
   },
   "id": "a5acd8a0c4d440cc"
  },
  {
   "cell_type": "code",
   "execution_count": 6,
   "outputs": [
    {
     "data": {
      "text/plain": "   Gender  Reps  Year Time Format AP/JC FF/PR/PB HR/FR  Exercise\n70   Male    71  2023   2 MINUTES    JC       PB    FR         2\n71   Male    70  2020   2 MINUTES    JC       PB    FR         2\n72   Male    70  2021   2 MINUTES    JC       PB    FR         2\n73   Male    70  2022   2 MINUTES    JC       PB    FR         2\n74   Male    70  2023   2 MINUTES    JC       PB    FR         2",
      "text/html": "<div>\n<style scoped>\n    .dataframe tbody tr th:only-of-type {\n        vertical-align: middle;\n    }\n\n    .dataframe tbody tr th {\n        vertical-align: top;\n    }\n\n    .dataframe thead th {\n        text-align: right;\n    }\n</style>\n<table border=\"1\" class=\"dataframe\">\n  <thead>\n    <tr style=\"text-align: right;\">\n      <th></th>\n      <th>Gender</th>\n      <th>Reps</th>\n      <th>Year</th>\n      <th>Time Format</th>\n      <th>AP/JC</th>\n      <th>FF/PR/PB</th>\n      <th>HR/FR</th>\n      <th>Exercise</th>\n    </tr>\n  </thead>\n  <tbody>\n    <tr>\n      <th>70</th>\n      <td>Male</td>\n      <td>71</td>\n      <td>2023</td>\n      <td>2 MINUTES</td>\n      <td>JC</td>\n      <td>PB</td>\n      <td>FR</td>\n      <td>2</td>\n    </tr>\n    <tr>\n      <th>71</th>\n      <td>Male</td>\n      <td>70</td>\n      <td>2020</td>\n      <td>2 MINUTES</td>\n      <td>JC</td>\n      <td>PB</td>\n      <td>FR</td>\n      <td>2</td>\n    </tr>\n    <tr>\n      <th>72</th>\n      <td>Male</td>\n      <td>70</td>\n      <td>2021</td>\n      <td>2 MINUTES</td>\n      <td>JC</td>\n      <td>PB</td>\n      <td>FR</td>\n      <td>2</td>\n    </tr>\n    <tr>\n      <th>73</th>\n      <td>Male</td>\n      <td>70</td>\n      <td>2022</td>\n      <td>2 MINUTES</td>\n      <td>JC</td>\n      <td>PB</td>\n      <td>FR</td>\n      <td>2</td>\n    </tr>\n    <tr>\n      <th>74</th>\n      <td>Male</td>\n      <td>70</td>\n      <td>2023</td>\n      <td>2 MINUTES</td>\n      <td>JC</td>\n      <td>PB</td>\n      <td>FR</td>\n      <td>2</td>\n    </tr>\n  </tbody>\n</table>\n</div>"
     },
     "execution_count": 6,
     "metadata": {},
     "output_type": "execute_result"
    }
   ],
   "source": [
    "df.head()"
   ],
   "metadata": {
    "collapsed": false,
    "ExecuteTime": {
     "end_time": "2023-12-23T20:05:44.638295Z",
     "start_time": "2023-12-23T20:05:44.632838Z"
    }
   },
   "id": "3627432b30830581"
  },
  {
   "cell_type": "code",
   "execution_count": 7,
   "outputs": [
    {
     "name": "stdout",
     "output_type": "stream",
     "text": [
      "Exercise: 2\n",
      "             Reps         Year  Exercise\n",
      "count  111.000000   111.000000     111.0\n",
      "mean    47.288288  2021.630631       2.0\n",
      "std     12.643638     1.043838       0.0\n",
      "min      2.000000  2020.000000       2.0\n",
      "25%     38.000000  2021.000000       2.0\n",
      "50%     46.000000  2022.000000       2.0\n",
      "75%     56.500000  2022.500000       2.0\n",
      "max     71.000000  2023.000000       2.0\n",
      "\n",
      "\n",
      "Exercise: 1\n",
      "             Reps         Year  Exercise\n",
      "count  165.000000   165.000000     165.0\n",
      "mean    38.666667  2020.842424       1.0\n",
      "std     14.561197     1.501834       0.0\n",
      "min      1.000000  2019.000000       1.0\n",
      "25%     28.000000  2019.000000       1.0\n",
      "50%     38.000000  2021.000000       1.0\n",
      "75%     47.000000  2022.000000       1.0\n",
      "max     73.000000  2023.000000       1.0\n",
      "\n",
      "\n",
      "Exercise: 3\n",
      "             Reps         Year  Exercise\n",
      "count  119.000000   119.000000     119.0\n",
      "mean    18.016807  2021.630252       3.0\n",
      "std      6.803518     1.080376       0.0\n",
      "min      1.000000  2020.000000       3.0\n",
      "25%     13.500000  2021.000000       3.0\n",
      "50%     18.000000  2022.000000       3.0\n",
      "75%     21.500000  2023.000000       3.0\n",
      "max     35.000000  2023.000000       3.0\n",
      "\n",
      "\n",
      "Exercise: 4\n",
      "            Reps    Year  Exercise\n",
      "count  28.000000    28.0      28.0\n",
      "mean   66.214286  2023.0       4.0\n",
      "std    15.227551     0.0       0.0\n",
      "min    21.000000  2023.0       4.0\n",
      "25%    58.500000  2023.0       4.0\n",
      "50%    65.000000  2023.0       4.0\n",
      "75%    76.750000  2023.0       4.0\n",
      "max    88.000000  2023.0       4.0\n",
      "\n",
      "\n",
      "Exercise: 5\n",
      "             Reps         Year  Exercise\n",
      "count  150.000000   150.000000     150.0\n",
      "mean    92.646667  2019.640000       5.0\n",
      "std     16.266710     3.221738       0.0\n",
      "min     28.000000  2015.000000       5.0\n",
      "25%     81.000000  2016.000000       5.0\n",
      "50%     93.000000  2021.000000       5.0\n",
      "75%    104.750000  2022.000000       5.0\n",
      "max    130.000000  2023.000000       5.0\n"
     ]
    }
   ],
   "source": [
    "unique_exercises = df['Exercise'].unique()\n",
    "for exercise in unique_exercises:\n",
    "    exercise_df = df[df['Exercise'] == exercise]\n",
    "    print(f\"Exercise: {exercise}\")\n",
    "    print(exercise_df.describe())\n",
    "    print('\\n')"
   ],
   "metadata": {
    "collapsed": false,
    "ExecuteTime": {
     "end_time": "2023-12-23T20:05:44.736764Z",
     "start_time": "2023-12-23T20:05:44.638753Z"
    }
   },
   "id": "e75e13625f6091ef"
  },
  {
   "cell_type": "code",
   "execution_count": 8,
   "outputs": [
    {
     "name": "stderr",
     "output_type": "stream",
     "text": [
      "/Users/aidancone/anaconda3/envs/Scaling Exploratory Analysis/lib/python3.11/site-packages/sklearn/utils/validation.py:767: FutureWarning: is_sparse is deprecated and will be removed in a future version. Check `isinstance(dtype, pd.SparseDtype)` instead.\n",
      "  if not hasattr(array, \"sparse\") and array.dtypes.apply(is_sparse).any():\n",
      "/Users/aidancone/anaconda3/envs/Scaling Exploratory Analysis/lib/python3.11/site-packages/sklearn/utils/validation.py:605: FutureWarning: is_sparse is deprecated and will be removed in a future version. Check `isinstance(dtype, pd.SparseDtype)` instead.\n",
      "  if is_sparse(pd_dtype):\n",
      "/Users/aidancone/anaconda3/envs/Scaling Exploratory Analysis/lib/python3.11/site-packages/sklearn/utils/validation.py:614: FutureWarning: is_sparse is deprecated and will be removed in a future version. Check `isinstance(dtype, pd.SparseDtype)` instead.\n",
      "  if is_sparse(pd_dtype) or not is_extension_array_dtype(pd_dtype):\n",
      "/Users/aidancone/anaconda3/envs/Scaling Exploratory Analysis/lib/python3.11/site-packages/sklearn/utils/validation.py:767: FutureWarning: is_sparse is deprecated and will be removed in a future version. Check `isinstance(dtype, pd.SparseDtype)` instead.\n",
      "  if not hasattr(array, \"sparse\") and array.dtypes.apply(is_sparse).any():\n",
      "/Users/aidancone/anaconda3/envs/Scaling Exploratory Analysis/lib/python3.11/site-packages/sklearn/utils/validation.py:605: FutureWarning: is_sparse is deprecated and will be removed in a future version. Check `isinstance(dtype, pd.SparseDtype)` instead.\n",
      "  if is_sparse(pd_dtype):\n",
      "/Users/aidancone/anaconda3/envs/Scaling Exploratory Analysis/lib/python3.11/site-packages/sklearn/utils/validation.py:614: FutureWarning: is_sparse is deprecated and will be removed in a future version. Check `isinstance(dtype, pd.SparseDtype)` instead.\n",
      "  if is_sparse(pd_dtype) or not is_extension_array_dtype(pd_dtype):\n"
     ]
    },
    {
     "data": {
      "text/plain": "   Gender  Reps  Year Time Format AP/JC FF/PR/PB HR/FR  Exercise  \\\n70   Male    71  2023   2 MINUTES    JC       PB    FR         2   \n71   Male    70  2020   2 MINUTES    JC       PB    FR         2   \n72   Male    70  2021   2 MINUTES    JC       PB    FR         2   \n73   Male    70  2022   2 MINUTES    JC       PB    FR         2   \n74   Male    70  2023   2 MINUTES    JC       PB    FR         2   \n\n    Reps_Standardized  \n70           0.642719  \n71           0.609716  \n72           0.609716  \n73           0.609716  \n74           0.609716  ",
      "text/html": "<div>\n<style scoped>\n    .dataframe tbody tr th:only-of-type {\n        vertical-align: middle;\n    }\n\n    .dataframe tbody tr th {\n        vertical-align: top;\n    }\n\n    .dataframe thead th {\n        text-align: right;\n    }\n</style>\n<table border=\"1\" class=\"dataframe\">\n  <thead>\n    <tr style=\"text-align: right;\">\n      <th></th>\n      <th>Gender</th>\n      <th>Reps</th>\n      <th>Year</th>\n      <th>Time Format</th>\n      <th>AP/JC</th>\n      <th>FF/PR/PB</th>\n      <th>HR/FR</th>\n      <th>Exercise</th>\n      <th>Reps_Standardized</th>\n    </tr>\n  </thead>\n  <tbody>\n    <tr>\n      <th>70</th>\n      <td>Male</td>\n      <td>71</td>\n      <td>2023</td>\n      <td>2 MINUTES</td>\n      <td>JC</td>\n      <td>PB</td>\n      <td>FR</td>\n      <td>2</td>\n      <td>0.642719</td>\n    </tr>\n    <tr>\n      <th>71</th>\n      <td>Male</td>\n      <td>70</td>\n      <td>2020</td>\n      <td>2 MINUTES</td>\n      <td>JC</td>\n      <td>PB</td>\n      <td>FR</td>\n      <td>2</td>\n      <td>0.609716</td>\n    </tr>\n    <tr>\n      <th>72</th>\n      <td>Male</td>\n      <td>70</td>\n      <td>2021</td>\n      <td>2 MINUTES</td>\n      <td>JC</td>\n      <td>PB</td>\n      <td>FR</td>\n      <td>2</td>\n      <td>0.609716</td>\n    </tr>\n    <tr>\n      <th>73</th>\n      <td>Male</td>\n      <td>70</td>\n      <td>2022</td>\n      <td>2 MINUTES</td>\n      <td>JC</td>\n      <td>PB</td>\n      <td>FR</td>\n      <td>2</td>\n      <td>0.609716</td>\n    </tr>\n    <tr>\n      <th>74</th>\n      <td>Male</td>\n      <td>70</td>\n      <td>2023</td>\n      <td>2 MINUTES</td>\n      <td>JC</td>\n      <td>PB</td>\n      <td>FR</td>\n      <td>2</td>\n      <td>0.609716</td>\n    </tr>\n  </tbody>\n</table>\n</div>"
     },
     "execution_count": 8,
     "metadata": {},
     "output_type": "execute_result"
    }
   ],
   "source": [
    "# Standardize dataframe so reps are centered at 0\n",
    "# Instantiate the scaler\n",
    "scaler = StandardScaler()  \n",
    "\n",
    "# Fit and add a standardized reps column\n",
    "df['Reps_Standardized'] = scaler.fit_transform(df[['Reps']])  \n",
    "df.head()"
   ],
   "metadata": {
    "collapsed": false,
    "ExecuteTime": {
     "end_time": "2023-12-23T20:05:44.739311Z",
     "start_time": "2023-12-23T20:05:44.662546Z"
    }
   },
   "id": "919910bbc32475d5"
  },
  {
   "cell_type": "code",
   "execution_count": 9,
   "outputs": [],
   "source": [
    "def calculate_scores(data):\n",
    "    \"\"\"\n",
    "    Function to calculate scores and score value of each rep for different exercises.\n",
    "    It uses the Z-Scores to determine the points.\n",
    "\n",
    "    Args:\n",
    "    df (pandas.DataFrame): Dataframe containing the data. \n",
    "\n",
    "    Returns:\n",
    "    df (pandas.DataFrame): Dataframe with additional columns 'score' and 'score_per_rep'. \n",
    "    \"\"\"\n",
    "    # Create a copy of the input DataFrame to avoid changing original data\n",
    "    df = data.copy(deep=True)\n",
    "\n",
    "    # Identify unique exercises in the DataFrame\n",
    "    unique_exercises = df['Exercise'].unique()\n",
    "\n",
    "    # Process each exercise one at a time\n",
    "    for exercise in unique_exercises:\n",
    "        # Create a new DataFrame that only contains rows for the current exercise\n",
    "        df_exercise = df[df['Exercise'] == exercise]\n",
    "\n",
    "        # Calculate 'score' using 'Reps_Standardized'\n",
    "        # 500 represents an average score and 1000 represents an exceptional score\n",
    "        # Assume an exceptional score corresponds to a Z-Score of 3 (3 standard deviations above the mean)\n",
    "        df_exercise['score'] = ( ( (df_exercise['Reps_Standardized'] / 3) + 1) / 2 ) * 500 + 500\n",
    "\n",
    "        # Calculate 'score_per_rep' by dividing 'score' by the original 'Reps'\n",
    "        df_exercise['score_per_rep'] = df_exercise['score'] / df_exercise['Reps']\n",
    "\n",
    "        # Update the 'score' and 'score_per_rep' values in the original DataFrame for the current exercise\n",
    "        df.loc[df['Exercise'] == exercise, 'score'] = df_exercise['score']\n",
    "        df.loc[df['Exercise'] == exercise, 'score_per_rep'] = df_exercise['score_per_rep']\n",
    "\n",
    "    # Return the updated DataFrame with the new 'score' and 'score_per_rep' columns\n",
    "    return df"
   ],
   "metadata": {
    "collapsed": false,
    "ExecuteTime": {
     "end_time": "2023-12-23T20:05:44.739990Z",
     "start_time": "2023-12-23T20:05:44.679087Z"
    }
   },
   "id": "26d6fa4ec7167cab"
  },
  {
   "cell_type": "markdown",
   "source": [
    "A Z-score represents how many standard deviations a given value is from the mean. For instance, a Z-score of 1.0 represents a value that is one standard deviation from the mean. Negative Z-scores are below the mean while positive Z-scores are above the mean.\n",
    "<br>\n",
    "In the expression (df_exercise['Reps_Standardized'] / 3), 'Reps_Standardized' is presumably a z-score and the division by 3 scales it to the range [-1, 1] under the assumption that a 'Reps_Standardized' score of 3 is extraordinary.\n",
    "<br>\n",
    "The + 1 afterwards shifts the range to [0, 2].\n",
    "The division by 2 at the end scales the range down to [0, 1].\n",
    "By performing this operation, the function is ensuring that the 'score' values will fall within the range [500, 1000] as desired."
   ],
   "metadata": {
    "collapsed": false
   },
   "id": "35f5222d378b0294"
  },
  {
   "cell_type": "code",
   "execution_count": 10,
   "outputs": [
    {
     "name": "stderr",
     "output_type": "stream",
     "text": [
      "/var/folders/cw/0rcfs23d78sd29z7njmt0yrh0000gn/T/ipykernel_78345/2847921636.py:26: SettingWithCopyWarning: \n",
      "A value is trying to be set on a copy of a slice from a DataFrame.\n",
      "Try using .loc[row_indexer,col_indexer] = value instead\n",
      "\n",
      "See the caveats in the documentation: https://pandas.pydata.org/pandas-docs/stable/user_guide/indexing.html#returning-a-view-versus-a-copy\n",
      "  df_exercise['score'] = ( ( (df_exercise['Reps_Standardized'] / 3) + 1) / 2 ) * 500 + 500\n",
      "/var/folders/cw/0rcfs23d78sd29z7njmt0yrh0000gn/T/ipykernel_78345/2847921636.py:29: SettingWithCopyWarning: \n",
      "A value is trying to be set on a copy of a slice from a DataFrame.\n",
      "Try using .loc[row_indexer,col_indexer] = value instead\n",
      "\n",
      "See the caveats in the documentation: https://pandas.pydata.org/pandas-docs/stable/user_guide/indexing.html#returning-a-view-versus-a-copy\n",
      "  df_exercise['score_per_rep'] = df_exercise['score'] / df_exercise['Reps']\n",
      "/var/folders/cw/0rcfs23d78sd29z7njmt0yrh0000gn/T/ipykernel_78345/2847921636.py:26: SettingWithCopyWarning: \n",
      "A value is trying to be set on a copy of a slice from a DataFrame.\n",
      "Try using .loc[row_indexer,col_indexer] = value instead\n",
      "\n",
      "See the caveats in the documentation: https://pandas.pydata.org/pandas-docs/stable/user_guide/indexing.html#returning-a-view-versus-a-copy\n",
      "  df_exercise['score'] = ( ( (df_exercise['Reps_Standardized'] / 3) + 1) / 2 ) * 500 + 500\n",
      "/var/folders/cw/0rcfs23d78sd29z7njmt0yrh0000gn/T/ipykernel_78345/2847921636.py:29: SettingWithCopyWarning: \n",
      "A value is trying to be set on a copy of a slice from a DataFrame.\n",
      "Try using .loc[row_indexer,col_indexer] = value instead\n",
      "\n",
      "See the caveats in the documentation: https://pandas.pydata.org/pandas-docs/stable/user_guide/indexing.html#returning-a-view-versus-a-copy\n",
      "  df_exercise['score_per_rep'] = df_exercise['score'] / df_exercise['Reps']\n"
     ]
    },
    {
     "data": {
      "text/plain": "      Gender  Reps  Year Time Format AP/JC FF/PR/PB HR/FR  Exercise  \\\n70      Male    71  2023   2 MINUTES    JC       PB    FR         2   \n71      Male    70  2020   2 MINUTES    JC       PB    FR         2   \n72      Male    70  2021   2 MINUTES    JC       PB    FR         2   \n73      Male    70  2022   2 MINUTES    JC       PB    FR         2   \n74      Male    70  2023   2 MINUTES    JC       PB    FR         2   \n...      ...   ...   ...         ...   ...      ...   ...       ...   \n1472  Female    67  2015   2 MINUTES   NaN      NaN    FR         5   \n1473    Male    67  2021   2 MINUTES   NaN      NaN    FR         5   \n1474    Male    67  2023   2 MINUTES   NaN      NaN    FR         5   \n1486    Male    50  2016   2 MINUTES   NaN      NaN    FR         5   \n1491    Male    28  2022   2 MINUTES   NaN      NaN    FR         5   \n\n      Reps_Standardized       score  score_per_rep  \n70             0.642719  803.559885      11.317745  \n71             0.609716  800.809655      11.440138  \n72             0.609716  800.809655      11.440138  \n73             0.609716  800.809655      11.440138  \n74             0.609716  800.809655      11.440138  \n...                 ...         ...            ...  \n1472           0.510708  792.558966      11.829238  \n1473           0.510708  792.558966      11.829238  \n1474           0.510708  792.558966      11.829238  \n1486          -0.050339  745.805060      14.916101  \n1491          -0.776400  685.300005      24.475000  \n\n[573 rows x 11 columns]",
      "text/html": "<div>\n<style scoped>\n    .dataframe tbody tr th:only-of-type {\n        vertical-align: middle;\n    }\n\n    .dataframe tbody tr th {\n        vertical-align: top;\n    }\n\n    .dataframe thead th {\n        text-align: right;\n    }\n</style>\n<table border=\"1\" class=\"dataframe\">\n  <thead>\n    <tr style=\"text-align: right;\">\n      <th></th>\n      <th>Gender</th>\n      <th>Reps</th>\n      <th>Year</th>\n      <th>Time Format</th>\n      <th>AP/JC</th>\n      <th>FF/PR/PB</th>\n      <th>HR/FR</th>\n      <th>Exercise</th>\n      <th>Reps_Standardized</th>\n      <th>score</th>\n      <th>score_per_rep</th>\n    </tr>\n  </thead>\n  <tbody>\n    <tr>\n      <th>70</th>\n      <td>Male</td>\n      <td>71</td>\n      <td>2023</td>\n      <td>2 MINUTES</td>\n      <td>JC</td>\n      <td>PB</td>\n      <td>FR</td>\n      <td>2</td>\n      <td>0.642719</td>\n      <td>803.559885</td>\n      <td>11.317745</td>\n    </tr>\n    <tr>\n      <th>71</th>\n      <td>Male</td>\n      <td>70</td>\n      <td>2020</td>\n      <td>2 MINUTES</td>\n      <td>JC</td>\n      <td>PB</td>\n      <td>FR</td>\n      <td>2</td>\n      <td>0.609716</td>\n      <td>800.809655</td>\n      <td>11.440138</td>\n    </tr>\n    <tr>\n      <th>72</th>\n      <td>Male</td>\n      <td>70</td>\n      <td>2021</td>\n      <td>2 MINUTES</td>\n      <td>JC</td>\n      <td>PB</td>\n      <td>FR</td>\n      <td>2</td>\n      <td>0.609716</td>\n      <td>800.809655</td>\n      <td>11.440138</td>\n    </tr>\n    <tr>\n      <th>73</th>\n      <td>Male</td>\n      <td>70</td>\n      <td>2022</td>\n      <td>2 MINUTES</td>\n      <td>JC</td>\n      <td>PB</td>\n      <td>FR</td>\n      <td>2</td>\n      <td>0.609716</td>\n      <td>800.809655</td>\n      <td>11.440138</td>\n    </tr>\n    <tr>\n      <th>74</th>\n      <td>Male</td>\n      <td>70</td>\n      <td>2023</td>\n      <td>2 MINUTES</td>\n      <td>JC</td>\n      <td>PB</td>\n      <td>FR</td>\n      <td>2</td>\n      <td>0.609716</td>\n      <td>800.809655</td>\n      <td>11.440138</td>\n    </tr>\n    <tr>\n      <th>...</th>\n      <td>...</td>\n      <td>...</td>\n      <td>...</td>\n      <td>...</td>\n      <td>...</td>\n      <td>...</td>\n      <td>...</td>\n      <td>...</td>\n      <td>...</td>\n      <td>...</td>\n      <td>...</td>\n    </tr>\n    <tr>\n      <th>1472</th>\n      <td>Female</td>\n      <td>67</td>\n      <td>2015</td>\n      <td>2 MINUTES</td>\n      <td>NaN</td>\n      <td>NaN</td>\n      <td>FR</td>\n      <td>5</td>\n      <td>0.510708</td>\n      <td>792.558966</td>\n      <td>11.829238</td>\n    </tr>\n    <tr>\n      <th>1473</th>\n      <td>Male</td>\n      <td>67</td>\n      <td>2021</td>\n      <td>2 MINUTES</td>\n      <td>NaN</td>\n      <td>NaN</td>\n      <td>FR</td>\n      <td>5</td>\n      <td>0.510708</td>\n      <td>792.558966</td>\n      <td>11.829238</td>\n    </tr>\n    <tr>\n      <th>1474</th>\n      <td>Male</td>\n      <td>67</td>\n      <td>2023</td>\n      <td>2 MINUTES</td>\n      <td>NaN</td>\n      <td>NaN</td>\n      <td>FR</td>\n      <td>5</td>\n      <td>0.510708</td>\n      <td>792.558966</td>\n      <td>11.829238</td>\n    </tr>\n    <tr>\n      <th>1486</th>\n      <td>Male</td>\n      <td>50</td>\n      <td>2016</td>\n      <td>2 MINUTES</td>\n      <td>NaN</td>\n      <td>NaN</td>\n      <td>FR</td>\n      <td>5</td>\n      <td>-0.050339</td>\n      <td>745.805060</td>\n      <td>14.916101</td>\n    </tr>\n    <tr>\n      <th>1491</th>\n      <td>Male</td>\n      <td>28</td>\n      <td>2022</td>\n      <td>2 MINUTES</td>\n      <td>NaN</td>\n      <td>NaN</td>\n      <td>FR</td>\n      <td>5</td>\n      <td>-0.776400</td>\n      <td>685.300005</td>\n      <td>24.475000</td>\n    </tr>\n  </tbody>\n</table>\n<p>573 rows × 11 columns</p>\n</div>"
     },
     "execution_count": 10,
     "metadata": {},
     "output_type": "execute_result"
    }
   ],
   "source": [
    "# New dataframe with scores per rep\n",
    "score_df = calculate_scores(df)\n",
    "score_df"
   ],
   "metadata": {
    "collapsed": false,
    "ExecuteTime": {
     "end_time": "2023-12-23T20:05:44.828185Z",
     "start_time": "2023-12-23T20:05:44.684456Z"
    }
   },
   "id": "6dfc27d2f902f9c9"
  },
  {
   "cell_type": "code",
   "execution_count": 11,
   "outputs": [
    {
     "data": {
      "text/plain": "Exercise\n1    29.013399\n2    19.041024\n3    48.407162\n4    12.753596\n5     9.576302\nName: score_per_rep, dtype: float64"
     },
     "execution_count": 11,
     "metadata": {},
     "output_type": "execute_result"
    }
   ],
   "source": [
    "# Take the mean score per rep to get a weight\n",
    "weights = score_df.groupby('Exercise')['score_per_rep'].mean()\n",
    "weights"
   ],
   "metadata": {
    "collapsed": false,
    "ExecuteTime": {
     "end_time": "2023-12-23T20:05:44.830952Z",
     "start_time": "2023-12-23T20:05:44.705886Z"
    }
   },
   "id": "184fd370ce475325"
  },
  {
   "cell_type": "code",
   "execution_count": 12,
   "outputs": [],
   "source": [
    "# Predicting new scores based on the weights\n",
    "new_data = df.copy(deep=True)  # just a place-holder for now\n",
    "# New data would be the data that is being predicted\n",
    "new_data['predicted_score'] = new_data.apply(lambda row: row['Reps'] * weights[row['Exercise']], axis=1)"
   ],
   "metadata": {
    "collapsed": false,
    "ExecuteTime": {
     "end_time": "2023-12-23T20:05:44.886402Z",
     "start_time": "2023-12-23T20:05:44.714914Z"
    }
   },
   "id": "49d3dfe28537e7e0"
  },
  {
   "cell_type": "markdown",
   "source": [
    "# Why I chose this method\n",
    "* Normalize the data to account for values that might be on different scales\n",
    "* Calculates a score for each rep in each exercise, based on Z-score\n",
    "* Able to compare scores from different exercises\n",
    "* This calculates Z-scores relative to the performance for a specific exercise and not across all exercises\n",
    "* Assigns more 'value' to reps that are above the average for a specific exercise"
   ],
   "metadata": {
    "collapsed": false
   },
   "id": "a2f4ea096a9341a"
  },
  {
   "cell_type": "code",
   "execution_count": 12,
   "outputs": [],
   "source": [],
   "metadata": {
    "collapsed": false,
    "ExecuteTime": {
     "end_time": "2023-12-23T20:05:44.887713Z",
     "start_time": "2023-12-23T20:05:44.718370Z"
    }
   },
   "id": "3a3ce10ea89e6590"
  }
 ],
 "metadata": {
  "kernelspec": {
   "display_name": "Python 3",
   "language": "python",
   "name": "python3"
  },
  "language_info": {
   "codemirror_mode": {
    "name": "ipython",
    "version": 2
   },
   "file_extension": ".py",
   "mimetype": "text/x-python",
   "name": "python",
   "nbconvert_exporter": "python",
   "pygments_lexer": "ipython2",
   "version": "2.7.6"
  }
 },
 "nbformat": 4,
 "nbformat_minor": 5
}
