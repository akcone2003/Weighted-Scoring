{
 "cells": [
  {
   "cell_type": "code",
   "execution_count": 248,
   "id": "initial_id",
   "metadata": {
    "collapsed": true,
    "ExecuteTime": {
     "end_time": "2024-01-18T05:56:03.595940Z",
     "start_time": "2024-01-18T05:56:03.564540Z"
    }
   },
   "outputs": [],
   "source": [
    "import pandas as pd\n",
    "from sklearn.preprocessing import StandardScaler"
   ]
  },
  {
   "cell_type": "code",
   "execution_count": 249,
   "outputs": [],
   "source": [
    "df = pd.read_csv('Calisthenics Data - Sheet1.csv')"
   ],
   "metadata": {
    "collapsed": false,
    "ExecuteTime": {
     "end_time": "2024-01-18T05:56:03.632651Z",
     "start_time": "2024-01-18T05:56:03.609523Z"
    }
   },
   "id": "a805e665e3724949"
  },
  {
   "cell_type": "code",
   "execution_count": 250,
   "outputs": [
    {
     "data": {
      "text/plain": "  Gender  Reps  Year Time Format AP/JC FF/PR/PB HR/FR  Exercise\n0   Male   130  2019   2 MINUTES    AP       FF    HR         2\n1   Male   119  2017   2 MINUTES    AP       FF    HR         2\n2   Male   111  2017   2 MINUTES    AP       FF    HR         2\n3   Male   107  2018   2 MINUTES    AP       FF    HR         2\n4   Male   105  2019   2 MINUTES    AP       FF    HR         2",
      "text/html": "<div>\n<style scoped>\n    .dataframe tbody tr th:only-of-type {\n        vertical-align: middle;\n    }\n\n    .dataframe tbody tr th {\n        vertical-align: top;\n    }\n\n    .dataframe thead th {\n        text-align: right;\n    }\n</style>\n<table border=\"1\" class=\"dataframe\">\n  <thead>\n    <tr style=\"text-align: right;\">\n      <th></th>\n      <th>Gender</th>\n      <th>Reps</th>\n      <th>Year</th>\n      <th>Time Format</th>\n      <th>AP/JC</th>\n      <th>FF/PR/PB</th>\n      <th>HR/FR</th>\n      <th>Exercise</th>\n    </tr>\n  </thead>\n  <tbody>\n    <tr>\n      <th>0</th>\n      <td>Male</td>\n      <td>130</td>\n      <td>2019</td>\n      <td>2 MINUTES</td>\n      <td>AP</td>\n      <td>FF</td>\n      <td>HR</td>\n      <td>2</td>\n    </tr>\n    <tr>\n      <th>1</th>\n      <td>Male</td>\n      <td>119</td>\n      <td>2017</td>\n      <td>2 MINUTES</td>\n      <td>AP</td>\n      <td>FF</td>\n      <td>HR</td>\n      <td>2</td>\n    </tr>\n    <tr>\n      <th>2</th>\n      <td>Male</td>\n      <td>111</td>\n      <td>2017</td>\n      <td>2 MINUTES</td>\n      <td>AP</td>\n      <td>FF</td>\n      <td>HR</td>\n      <td>2</td>\n    </tr>\n    <tr>\n      <th>3</th>\n      <td>Male</td>\n      <td>107</td>\n      <td>2018</td>\n      <td>2 MINUTES</td>\n      <td>AP</td>\n      <td>FF</td>\n      <td>HR</td>\n      <td>2</td>\n    </tr>\n    <tr>\n      <th>4</th>\n      <td>Male</td>\n      <td>105</td>\n      <td>2019</td>\n      <td>2 MINUTES</td>\n      <td>AP</td>\n      <td>FF</td>\n      <td>HR</td>\n      <td>2</td>\n    </tr>\n  </tbody>\n</table>\n</div>"
     },
     "execution_count": 250,
     "metadata": {},
     "output_type": "execute_result"
    }
   ],
   "source": [
    "df.head()"
   ],
   "metadata": {
    "collapsed": false,
    "ExecuteTime": {
     "end_time": "2024-01-18T05:56:03.669258Z",
     "start_time": "2024-01-18T05:56:03.633155Z"
    }
   },
   "id": "45ace61f1b2cc2b3"
  },
  {
   "cell_type": "code",
   "execution_count": 251,
   "outputs": [
    {
     "name": "stdout",
     "output_type": "stream",
     "text": [
      "[2 1 3 4 5]\n"
     ]
    }
   ],
   "source": [
    "print(df['Exercise'].unique())"
   ],
   "metadata": {
    "collapsed": false,
    "ExecuteTime": {
     "end_time": "2024-01-18T05:56:03.669790Z",
     "start_time": "2024-01-18T05:56:03.638504Z"
    }
   },
   "id": "76e93be53552a459"
  },
  {
   "cell_type": "markdown",
   "source": [
    "# Cleaning up the dataset"
   ],
   "metadata": {
    "collapsed": false
   },
   "id": "e5cdd8ff82c091c4"
  },
  {
   "cell_type": "code",
   "execution_count": 252,
   "outputs": [],
   "source": [
    "# Conditions to remove specific exercises which are 'UNTIMED'\n",
    "condition_1 = (df['Exercise'] == 1) & (df['Time Format'] == 'UNTIMED')  # remove 'UNTIMED' rows for exercise 1\n",
    "condition_2 = (df['Exercise'] == 2) & (df['Time Format'] == 'UNTIMED')  # remove 'UNTIMED' rows for exercise 2\n",
    "condition_4 = (df['Exercise'] == 4) & (df['Time Format'] == 'UNTIMED')  # remove 'UNTIMED' rows for exercise 4\n",
    "condition_5 = (df['Exercise'] == 5) & (df['Time Format'] == 'UNTIMED')  # remove 'UNTIMED' rows for exercise 5\n",
    "\n",
    "# Removing 'UNTIMED' rows for specific exercises\n",
    "df = df[~(condition_1 | condition_2 | condition_4 | condition_5)]\n",
    "\n",
    "# Drops any rows where 'Reps' are 0\n",
    "df = df[df['Reps'] != 0]  \n",
    "\n",
    "# Removing any half-reps\n",
    "df = df[df['HR/FR'] != 'HR']  \n",
    "\n",
    "# Remove freeform\n",
    "df = df[df['FF/PR/PB'] != 'FF']"
   ],
   "metadata": {
    "collapsed": false,
    "ExecuteTime": {
     "end_time": "2024-01-18T05:56:03.670149Z",
     "start_time": "2024-01-18T05:56:03.647627Z"
    }
   },
   "id": "a5acd8a0c4d440cc"
  },
  {
   "cell_type": "code",
   "execution_count": 253,
   "outputs": [
    {
     "data": {
      "text/plain": "   Gender  Reps  Year Time Format AP/JC FF/PR/PB HR/FR  Exercise\n70   Male    71  2023   2 MINUTES    JC       PB    FR         2\n71   Male    70  2020   2 MINUTES    JC       PB    FR         2\n72   Male    70  2021   2 MINUTES    JC       PB    FR         2\n73   Male    70  2022   2 MINUTES    JC       PB    FR         2\n74   Male    70  2023   2 MINUTES    JC       PB    FR         2",
      "text/html": "<div>\n<style scoped>\n    .dataframe tbody tr th:only-of-type {\n        vertical-align: middle;\n    }\n\n    .dataframe tbody tr th {\n        vertical-align: top;\n    }\n\n    .dataframe thead th {\n        text-align: right;\n    }\n</style>\n<table border=\"1\" class=\"dataframe\">\n  <thead>\n    <tr style=\"text-align: right;\">\n      <th></th>\n      <th>Gender</th>\n      <th>Reps</th>\n      <th>Year</th>\n      <th>Time Format</th>\n      <th>AP/JC</th>\n      <th>FF/PR/PB</th>\n      <th>HR/FR</th>\n      <th>Exercise</th>\n    </tr>\n  </thead>\n  <tbody>\n    <tr>\n      <th>70</th>\n      <td>Male</td>\n      <td>71</td>\n      <td>2023</td>\n      <td>2 MINUTES</td>\n      <td>JC</td>\n      <td>PB</td>\n      <td>FR</td>\n      <td>2</td>\n    </tr>\n    <tr>\n      <th>71</th>\n      <td>Male</td>\n      <td>70</td>\n      <td>2020</td>\n      <td>2 MINUTES</td>\n      <td>JC</td>\n      <td>PB</td>\n      <td>FR</td>\n      <td>2</td>\n    </tr>\n    <tr>\n      <th>72</th>\n      <td>Male</td>\n      <td>70</td>\n      <td>2021</td>\n      <td>2 MINUTES</td>\n      <td>JC</td>\n      <td>PB</td>\n      <td>FR</td>\n      <td>2</td>\n    </tr>\n    <tr>\n      <th>73</th>\n      <td>Male</td>\n      <td>70</td>\n      <td>2022</td>\n      <td>2 MINUTES</td>\n      <td>JC</td>\n      <td>PB</td>\n      <td>FR</td>\n      <td>2</td>\n    </tr>\n    <tr>\n      <th>74</th>\n      <td>Male</td>\n      <td>70</td>\n      <td>2023</td>\n      <td>2 MINUTES</td>\n      <td>JC</td>\n      <td>PB</td>\n      <td>FR</td>\n      <td>2</td>\n    </tr>\n  </tbody>\n</table>\n</div>"
     },
     "execution_count": 253,
     "metadata": {},
     "output_type": "execute_result"
    }
   ],
   "source": [
    "df.head()"
   ],
   "metadata": {
    "collapsed": false,
    "ExecuteTime": {
     "end_time": "2024-01-18T05:56:03.736990Z",
     "start_time": "2024-01-18T05:56:03.674641Z"
    }
   },
   "id": "3627432b30830581"
  },
  {
   "cell_type": "code",
   "execution_count": 254,
   "outputs": [
    {
     "name": "stdout",
     "output_type": "stream",
     "text": [
      "Exercise: 2\n",
      "             Reps         Year  Exercise\n",
      "count  111.000000   111.000000     111.0\n",
      "mean    47.288288  2021.630631       2.0\n",
      "std     12.643638     1.043838       0.0\n",
      "min      2.000000  2020.000000       2.0\n",
      "25%     38.000000  2021.000000       2.0\n",
      "50%     46.000000  2022.000000       2.0\n",
      "75%     56.500000  2022.500000       2.0\n",
      "max     71.000000  2023.000000       2.0\n",
      "\n",
      "\n",
      "Exercise: 1\n",
      "             Reps         Year  Exercise\n",
      "count  165.000000   165.000000     165.0\n",
      "mean    38.666667  2020.842424       1.0\n",
      "std     14.561197     1.501834       0.0\n",
      "min      1.000000  2019.000000       1.0\n",
      "25%     28.000000  2019.000000       1.0\n",
      "50%     38.000000  2021.000000       1.0\n",
      "75%     47.000000  2022.000000       1.0\n",
      "max     73.000000  2023.000000       1.0\n",
      "\n",
      "\n",
      "Exercise: 3\n",
      "             Reps         Year  Exercise\n",
      "count  119.000000   119.000000     119.0\n",
      "mean    18.016807  2021.630252       3.0\n",
      "std      6.803518     1.080376       0.0\n",
      "min      1.000000  2020.000000       3.0\n",
      "25%     13.500000  2021.000000       3.0\n",
      "50%     18.000000  2022.000000       3.0\n",
      "75%     21.500000  2023.000000       3.0\n",
      "max     35.000000  2023.000000       3.0\n",
      "\n",
      "\n",
      "Exercise: 4\n",
      "            Reps    Year  Exercise\n",
      "count  28.000000    28.0      28.0\n",
      "mean   66.214286  2023.0       4.0\n",
      "std    15.227551     0.0       0.0\n",
      "min    21.000000  2023.0       4.0\n",
      "25%    58.500000  2023.0       4.0\n",
      "50%    65.000000  2023.0       4.0\n",
      "75%    76.750000  2023.0       4.0\n",
      "max    88.000000  2023.0       4.0\n",
      "\n",
      "\n",
      "Exercise: 5\n",
      "             Reps         Year  Exercise\n",
      "count  150.000000   150.000000     150.0\n",
      "mean    92.646667  2019.640000       5.0\n",
      "std     16.266710     3.221738       0.0\n",
      "min     28.000000  2015.000000       5.0\n",
      "25%     81.000000  2016.000000       5.0\n",
      "50%     93.000000  2021.000000       5.0\n",
      "75%    104.750000  2022.000000       5.0\n",
      "max    130.000000  2023.000000       5.0\n"
     ]
    }
   ],
   "source": [
    "unique_exercises = df['Exercise'].unique()\n",
    "for exercise in unique_exercises:\n",
    "    exercise_df = df[df['Exercise'] == exercise]\n",
    "    print(f\"Exercise: {exercise}\")\n",
    "    print(exercise_df.describe())\n",
    "    print('\\n')"
   ],
   "metadata": {
    "collapsed": false,
    "ExecuteTime": {
     "end_time": "2024-01-18T05:56:03.812875Z",
     "start_time": "2024-01-18T05:56:03.708693Z"
    }
   },
   "id": "e75e13625f6091ef"
  },
  {
   "cell_type": "code",
   "execution_count": 255,
   "outputs": [],
   "source": [
    "# Instantiate the scaler\n",
    "scaler = StandardScaler()\n",
    "\n",
    "# Split dataframe by 'Exercise', standardize 'Reps' within each and convert to single dimensional array using ravel()\n",
    "df['Reps_Standardized'] = df.groupby('Exercise')['Reps'].transform(lambda x: scaler.fit_transform(x.values.reshape(-1,1)).ravel())"
   ],
   "metadata": {
    "collapsed": false,
    "ExecuteTime": {
     "end_time": "2024-01-18T05:56:03.840519Z",
     "start_time": "2024-01-18T05:56:03.781267Z"
    }
   },
   "id": "919910bbc32475d5"
  },
  {
   "cell_type": "code",
   "outputs": [
    {
     "data": {
      "text/plain": "     Gender  Reps  Year Time Format AP/JC FF/PR/PB HR/FR  Exercise  \\\n290    Male    73  2022         2MD    JC       PB   NaN         1   \n291    Male    73  2023         2MD    JC       PB   NaN         1   \n294    Male    72  2019         2MD    JC       PB   NaN         1   \n295    Male    72  2022         2MD    JC       PB   NaN         1   \n296    Male    71  2022         2MD    JC       PB   NaN         1   \n..      ...   ...   ...         ...   ...      ...   ...       ...   \n553  Female    11  2019         2MD    JC       PB   NaN         1   \n557    Male     7  2019         2MD    JC       PB   NaN         1   \n560  Female     3  2019         2MD    JC       PB   NaN         1   \n561  Female     1  2019         2MD    JC       PB   NaN         1   \n562  Female     1  2021         2MD    JC       PB   NaN         1   \n\n     Reps_Standardized  \n290           2.365042  \n291           2.365042  \n294           2.296158  \n295           2.296158  \n296           2.227273  \n..                 ...  \n553          -1.905811  \n557          -2.181350  \n560          -2.456889  \n561          -2.594658  \n562          -2.594658  \n\n[165 rows x 9 columns]",
      "text/html": "<div>\n<style scoped>\n    .dataframe tbody tr th:only-of-type {\n        vertical-align: middle;\n    }\n\n    .dataframe tbody tr th {\n        vertical-align: top;\n    }\n\n    .dataframe thead th {\n        text-align: right;\n    }\n</style>\n<table border=\"1\" class=\"dataframe\">\n  <thead>\n    <tr style=\"text-align: right;\">\n      <th></th>\n      <th>Gender</th>\n      <th>Reps</th>\n      <th>Year</th>\n      <th>Time Format</th>\n      <th>AP/JC</th>\n      <th>FF/PR/PB</th>\n      <th>HR/FR</th>\n      <th>Exercise</th>\n      <th>Reps_Standardized</th>\n    </tr>\n  </thead>\n  <tbody>\n    <tr>\n      <th>290</th>\n      <td>Male</td>\n      <td>73</td>\n      <td>2022</td>\n      <td>2MD</td>\n      <td>JC</td>\n      <td>PB</td>\n      <td>NaN</td>\n      <td>1</td>\n      <td>2.365042</td>\n    </tr>\n    <tr>\n      <th>291</th>\n      <td>Male</td>\n      <td>73</td>\n      <td>2023</td>\n      <td>2MD</td>\n      <td>JC</td>\n      <td>PB</td>\n      <td>NaN</td>\n      <td>1</td>\n      <td>2.365042</td>\n    </tr>\n    <tr>\n      <th>294</th>\n      <td>Male</td>\n      <td>72</td>\n      <td>2019</td>\n      <td>2MD</td>\n      <td>JC</td>\n      <td>PB</td>\n      <td>NaN</td>\n      <td>1</td>\n      <td>2.296158</td>\n    </tr>\n    <tr>\n      <th>295</th>\n      <td>Male</td>\n      <td>72</td>\n      <td>2022</td>\n      <td>2MD</td>\n      <td>JC</td>\n      <td>PB</td>\n      <td>NaN</td>\n      <td>1</td>\n      <td>2.296158</td>\n    </tr>\n    <tr>\n      <th>296</th>\n      <td>Male</td>\n      <td>71</td>\n      <td>2022</td>\n      <td>2MD</td>\n      <td>JC</td>\n      <td>PB</td>\n      <td>NaN</td>\n      <td>1</td>\n      <td>2.227273</td>\n    </tr>\n    <tr>\n      <th>...</th>\n      <td>...</td>\n      <td>...</td>\n      <td>...</td>\n      <td>...</td>\n      <td>...</td>\n      <td>...</td>\n      <td>...</td>\n      <td>...</td>\n      <td>...</td>\n    </tr>\n    <tr>\n      <th>553</th>\n      <td>Female</td>\n      <td>11</td>\n      <td>2019</td>\n      <td>2MD</td>\n      <td>JC</td>\n      <td>PB</td>\n      <td>NaN</td>\n      <td>1</td>\n      <td>-1.905811</td>\n    </tr>\n    <tr>\n      <th>557</th>\n      <td>Male</td>\n      <td>7</td>\n      <td>2019</td>\n      <td>2MD</td>\n      <td>JC</td>\n      <td>PB</td>\n      <td>NaN</td>\n      <td>1</td>\n      <td>-2.181350</td>\n    </tr>\n    <tr>\n      <th>560</th>\n      <td>Female</td>\n      <td>3</td>\n      <td>2019</td>\n      <td>2MD</td>\n      <td>JC</td>\n      <td>PB</td>\n      <td>NaN</td>\n      <td>1</td>\n      <td>-2.456889</td>\n    </tr>\n    <tr>\n      <th>561</th>\n      <td>Female</td>\n      <td>1</td>\n      <td>2019</td>\n      <td>2MD</td>\n      <td>JC</td>\n      <td>PB</td>\n      <td>NaN</td>\n      <td>1</td>\n      <td>-2.594658</td>\n    </tr>\n    <tr>\n      <th>562</th>\n      <td>Female</td>\n      <td>1</td>\n      <td>2021</td>\n      <td>2MD</td>\n      <td>JC</td>\n      <td>PB</td>\n      <td>NaN</td>\n      <td>1</td>\n      <td>-2.594658</td>\n    </tr>\n  </tbody>\n</table>\n<p>165 rows × 9 columns</p>\n</div>"
     },
     "execution_count": 256,
     "metadata": {},
     "output_type": "execute_result"
    }
   ],
   "source": [
    "# Making sure scalar worked\n",
    "exercise_1 = df[df['Exercise'] == 1]\n",
    "exercise_1"
   ],
   "metadata": {
    "collapsed": false,
    "ExecuteTime": {
     "end_time": "2024-01-18T05:56:03.890646Z",
     "start_time": "2024-01-18T05:56:03.844240Z"
    }
   },
   "id": "d6279377f9781922",
   "execution_count": 256
  },
  {
   "cell_type": "markdown",
   "source": [
    "# Why I chose this method\n",
    "* Normalize the data to account for values that might be on different scales\n",
    "* Calculates a score for each rep in each exercise, based on Z-score\n",
    "* Able to compare scores from different exercises\n",
    "* This calculates Z-scores relative to the performance for a specific exercise and not across all exercises\n",
    "* Assigns more 'value' to reps that are above the average for a specific exercise"
   ],
   "metadata": {
    "collapsed": false
   },
   "id": "a2f4ea096a9341a"
  },
  {
   "cell_type": "code",
   "outputs": [
    {
     "data": {
      "text/plain": "      Gender  Reps  Year Time Format AP/JC FF/PR/PB HR/FR  Exercise  \\\n70      Male    71  2023   2 MINUTES    JC       PB    FR         2   \n71      Male    70  2020   2 MINUTES    JC       PB    FR         2   \n72      Male    70  2021   2 MINUTES    JC       PB    FR         2   \n73      Male    70  2022   2 MINUTES    JC       PB    FR         2   \n74      Male    70  2023   2 MINUTES    JC       PB    FR         2   \n...      ...   ...   ...         ...   ...      ...   ...       ...   \n1472  Female    67  2015   2 MINUTES   NaN      NaN    FR         5   \n1473    Male    67  2021   2 MINUTES   NaN      NaN    FR         5   \n1474    Male    67  2023   2 MINUTES   NaN      NaN    FR         5   \n1486    Male    50  2016   2 MINUTES   NaN      NaN    FR         5   \n1491    Male    28  2022   2 MINUTES   NaN      NaN    FR         5   \n\n      Reps_Standardized       Score  \n70             1.883892  906.107249  \n71             1.804442  888.980385  \n72             1.804442  888.980385  \n73             1.804442  888.980385  \n74             1.804442  888.980385  \n...                 ...         ...  \n1472          -1.581917  158.988956  \n1473          -1.581917  158.988956  \n1474          -1.581917  158.988956  \n1486          -2.630497  -67.051636  \n1491          -3.987484 -359.574757  \n\n[573 rows x 10 columns]",
      "text/html": "<div>\n<style scoped>\n    .dataframe tbody tr th:only-of-type {\n        vertical-align: middle;\n    }\n\n    .dataframe tbody tr th {\n        vertical-align: top;\n    }\n\n    .dataframe thead th {\n        text-align: right;\n    }\n</style>\n<table border=\"1\" class=\"dataframe\">\n  <thead>\n    <tr style=\"text-align: right;\">\n      <th></th>\n      <th>Gender</th>\n      <th>Reps</th>\n      <th>Year</th>\n      <th>Time Format</th>\n      <th>AP/JC</th>\n      <th>FF/PR/PB</th>\n      <th>HR/FR</th>\n      <th>Exercise</th>\n      <th>Reps_Standardized</th>\n      <th>Score</th>\n    </tr>\n  </thead>\n  <tbody>\n    <tr>\n      <th>70</th>\n      <td>Male</td>\n      <td>71</td>\n      <td>2023</td>\n      <td>2 MINUTES</td>\n      <td>JC</td>\n      <td>PB</td>\n      <td>FR</td>\n      <td>2</td>\n      <td>1.883892</td>\n      <td>906.107249</td>\n    </tr>\n    <tr>\n      <th>71</th>\n      <td>Male</td>\n      <td>70</td>\n      <td>2020</td>\n      <td>2 MINUTES</td>\n      <td>JC</td>\n      <td>PB</td>\n      <td>FR</td>\n      <td>2</td>\n      <td>1.804442</td>\n      <td>888.980385</td>\n    </tr>\n    <tr>\n      <th>72</th>\n      <td>Male</td>\n      <td>70</td>\n      <td>2021</td>\n      <td>2 MINUTES</td>\n      <td>JC</td>\n      <td>PB</td>\n      <td>FR</td>\n      <td>2</td>\n      <td>1.804442</td>\n      <td>888.980385</td>\n    </tr>\n    <tr>\n      <th>73</th>\n      <td>Male</td>\n      <td>70</td>\n      <td>2022</td>\n      <td>2 MINUTES</td>\n      <td>JC</td>\n      <td>PB</td>\n      <td>FR</td>\n      <td>2</td>\n      <td>1.804442</td>\n      <td>888.980385</td>\n    </tr>\n    <tr>\n      <th>74</th>\n      <td>Male</td>\n      <td>70</td>\n      <td>2023</td>\n      <td>2 MINUTES</td>\n      <td>JC</td>\n      <td>PB</td>\n      <td>FR</td>\n      <td>2</td>\n      <td>1.804442</td>\n      <td>888.980385</td>\n    </tr>\n    <tr>\n      <th>...</th>\n      <td>...</td>\n      <td>...</td>\n      <td>...</td>\n      <td>...</td>\n      <td>...</td>\n      <td>...</td>\n      <td>...</td>\n      <td>...</td>\n      <td>...</td>\n      <td>...</td>\n    </tr>\n    <tr>\n      <th>1472</th>\n      <td>Female</td>\n      <td>67</td>\n      <td>2015</td>\n      <td>2 MINUTES</td>\n      <td>NaN</td>\n      <td>NaN</td>\n      <td>FR</td>\n      <td>5</td>\n      <td>-1.581917</td>\n      <td>158.988956</td>\n    </tr>\n    <tr>\n      <th>1473</th>\n      <td>Male</td>\n      <td>67</td>\n      <td>2021</td>\n      <td>2 MINUTES</td>\n      <td>NaN</td>\n      <td>NaN</td>\n      <td>FR</td>\n      <td>5</td>\n      <td>-1.581917</td>\n      <td>158.988956</td>\n    </tr>\n    <tr>\n      <th>1474</th>\n      <td>Male</td>\n      <td>67</td>\n      <td>2023</td>\n      <td>2 MINUTES</td>\n      <td>NaN</td>\n      <td>NaN</td>\n      <td>FR</td>\n      <td>5</td>\n      <td>-1.581917</td>\n      <td>158.988956</td>\n    </tr>\n    <tr>\n      <th>1486</th>\n      <td>Male</td>\n      <td>50</td>\n      <td>2016</td>\n      <td>2 MINUTES</td>\n      <td>NaN</td>\n      <td>NaN</td>\n      <td>FR</td>\n      <td>5</td>\n      <td>-2.630497</td>\n      <td>-67.051636</td>\n    </tr>\n    <tr>\n      <th>1491</th>\n      <td>Male</td>\n      <td>28</td>\n      <td>2022</td>\n      <td>2 MINUTES</td>\n      <td>NaN</td>\n      <td>NaN</td>\n      <td>FR</td>\n      <td>5</td>\n      <td>-3.987484</td>\n      <td>-359.574757</td>\n    </tr>\n  </tbody>\n</table>\n<p>573 rows × 10 columns</p>\n</div>"
     },
     "execution_count": 257,
     "metadata": {},
     "output_type": "execute_result"
    }
   ],
   "source": [
    "import numpy as np\n",
    "\n",
    "# Function to calculate score\n",
    "def calculate_score(data):\n",
    "    \"\"\"\n",
    "   This function calculates a score for each rep in each exercise, based on Z-score.\n",
    "   An average person will score 500 and an exceptional score will be 1000, \n",
    "   which is defined as being in the 99th percentile\n",
    "\n",
    "   :param data: Pandas DataFrame with 'Reps_Standardized' column\n",
    "   :return: Given DataFrame with scores calculated in an additional 'Score' column.\n",
    "   \"\"\"\n",
    "    # Calculate the 99th percentile\n",
    "    exceptional_score = np.percentile(data['Reps_Standardized'], 99)\n",
    "\n",
    "    # Calculate standardized score\n",
    "    data['Score'] = ((data['Reps_Standardized'] / exceptional_score) * 500) + 500\n",
    "\n",
    "    return data\n",
    "\n",
    "# Calculate score dataframe\n",
    "scores_df = calculate_score(df)\n",
    "\n",
    "# Print the data frame\n",
    "scores_df"
   ],
   "metadata": {
    "collapsed": false,
    "ExecuteTime": {
     "end_time": "2024-01-18T05:56:03.954107Z",
     "start_time": "2024-01-18T05:56:03.899264Z"
    }
   },
   "id": "baf52c3e40f819fd",
   "execution_count": 257
  },
  {
   "cell_type": "markdown",
   "source": [
    "Here, `Reps_Standardized` represents the standardized repetitions for each row in the data. The `exceptional_score` is calculated as the 99th percentile of the 'Reps_Standardized' values. This means that 99% of the 'Reps_Standardized' values are less than the `exceptional_score`.\n",
    "\n",
    "The formula divides each 'Reps_Standardized' value by the `exceptional_score`, multiplies it by 500 and then adds 500 to it. This calculation assumes that an average person will score 500 and an exceptional score will be 1000.\n",
    "\n",
    "So, the score is calculated relative to the `exceptional_score`. If a value in 'Reps_Standardized' equals to `exceptional_score`, it will get a score of 1000. Lower 'Reps_Standardized' values will get scores less than 1000 and higher values will get scores greater than 1000."
   ],
   "metadata": {
    "collapsed": false
   },
   "id": "c6a9dd6a33d4328d"
  },
  {
   "cell_type": "code",
   "outputs": [
    {
     "data": {
      "text/plain": "Exercise\n1    11.646832\n2     8.827387\n3    26.319109\n4     6.941001\n5     5.083621\nName: Score_Per_Rep, dtype: float64"
     },
     "execution_count": 258,
     "metadata": {},
     "output_type": "execute_result"
    }
   ],
   "source": [
    "# Calculate score per rep\n",
    "scores_df['Score_Per_Rep'] = scores_df['Score'] / scores_df['Reps']\n",
    "\n",
    "# calculate weights\n",
    "weights = scores_df.groupby('Exercise')['Score_Per_Rep'].mean()\n",
    "weights"
   ],
   "metadata": {
    "collapsed": false,
    "ExecuteTime": {
     "end_time": "2024-01-18T05:56:03.979389Z",
     "start_time": "2024-01-18T05:56:03.932245Z"
    }
   },
   "id": "61f0f8caca3ceb9b",
   "execution_count": 258
  },
  {
   "cell_type": "code",
   "outputs": [],
   "source": [
    "# Predicting new scores based on the weights\n",
    "new_data = df.copy(deep=True)  # just a place-holder for now\n",
    "# New data would be the data that is being predicted\n",
    "new_data['predicted_score'] = new_data.apply(lambda row: row['Reps'] * weights[row['Exercise']], axis=1)"
   ],
   "metadata": {
    "collapsed": false,
    "ExecuteTime": {
     "end_time": "2024-01-18T05:56:04.006409Z",
     "start_time": "2024-01-18T05:56:03.971216Z"
    }
   },
   "id": "af66cf41e85f3482",
   "execution_count": 259
  }
 ],
 "metadata": {
  "kernelspec": {
   "display_name": "Python 3",
   "language": "python",
   "name": "python3"
  },
  "language_info": {
   "codemirror_mode": {
    "name": "ipython",
    "version": 2
   },
   "file_extension": ".py",
   "mimetype": "text/x-python",
   "name": "python",
   "nbconvert_exporter": "python",
   "pygments_lexer": "ipython2",
   "version": "2.7.6"
  }
 },
 "nbformat": 4,
 "nbformat_minor": 5
}
